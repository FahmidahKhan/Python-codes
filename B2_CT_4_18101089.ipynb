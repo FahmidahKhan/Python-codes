{
  "nbformat": 4,
  "nbformat_minor": 0,
  "metadata": {
    "colab": {
      "name": "B2_CT_4_18101089.ipynb",
      "provenance": [],
      "authorship_tag": "ABX9TyPjKvnuwFB5lxBKu0IhUvuH",
      "include_colab_link": true
    },
    "kernelspec": {
      "name": "python3",
      "display_name": "Python 3"
    }
  },
  "cells": [
    {
      "cell_type": "markdown",
      "metadata": {
        "id": "view-in-github",
        "colab_type": "text"
      },
      "source": [
        "<a href=\"https://colab.research.google.com/github/FahmidahKhan/Python-codes/blob/master/B2_CT_4_18101089.ipynb\" target=\"_parent\"><img src=\"https://colab.research.google.com/assets/colab-badge.svg\" alt=\"Open In Colab\"/></a>"
      ]
    },
    {
      "cell_type": "markdown",
      "metadata": {
        "id": "JWJhhijmkAqv",
        "colab_type": "text"
      },
      "source": [
        "Write a python class to calculate the area of the geometric shapes. The class has the following functionalities: Calculate the area of  \t\t\t\t\t\n",
        "Triangle\n",
        "Square\n",
        "Rectangle \n",
        "Parallelogram \n",
        "Rhombus \n",
        "Surface area of Cylinder \n",
        "Surface area of Cube\n",
        "Surface area of Sphere \n"
      ]
    },
    {
      "cell_type": "code",
      "metadata": {
        "id": "BlR2PtpJkKHN",
        "colab_type": "code",
        "colab": {
          "base_uri": "https://localhost:8080/",
          "height": 34
        },
        "outputId": "ff9bedaa-9aeb-4c4d-8e69-618fb9d9ab47"
      },
      "source": [
        "class Area:\n",
        " \n",
        "\n",
        "  def triangle_area(self,length,breadth):\n",
        "   \n",
        "    self.area = (length*breadth)*(1/2)\n",
        "    print(self.area)\n",
        "    \n",
        "\n",
        "  def square_area(self,side):\n",
        "    self.area = side**2\n",
        "    print(self.area)\n",
        "    \n",
        "\n",
        "\n",
        "  def rectangle_area(self,length,breadth):\n",
        "    self.area = length*breadth\n",
        "    print(self.area)\n",
        "    \n",
        "\n",
        "  def parallelogram_area(self,breadth,height):\n",
        "    self.area=breadth*height\n",
        "    print(self.area)\n",
        "    \n",
        "\n",
        "  def rhombus_area(self,side,side1): \n",
        "    self.area=side*side1*0.5 \n",
        "    print(self.area)\n",
        "       \n",
        "\n",
        "  def surface_area_of_cylinder(self,radius,height):\n",
        "    self.area=(2*3.1416*radius*height)+(2*3.1416*(radius**2))\n",
        "    print(self.area)\n",
        "    \n",
        "\n",
        "  def surface_area_of_cube(self,side):\n",
        "    self.area=6*(side**2)\n",
        "    print(self.area)\n",
        "    \n",
        "\n",
        "  def surface_area_of_sphere(self,radius):\n",
        "    self.area=4*3.1416*(radius**2)\n",
        "    print(self.area)\n",
        "    \n",
        "\n",
        "\n",
        "obj= Area()\n",
        "\n",
        "obj.triangle_area(2.0,3.0)\n",
        "\n",
        "\n",
        "\n",
        "\n",
        "\n",
        "  "
      ],
      "execution_count": null,
      "outputs": [
        {
          "output_type": "stream",
          "text": [
            "3.0\n"
          ],
          "name": "stdout"
        }
      ]
    },
    {
      "cell_type": "markdown",
      "metadata": {
        "id": "tKDPPAYDrg-R",
        "colab_type": "text"
      },
      "source": [
        "Write a python function to calculate the sum of the following series:\t\n",
        "log(1) + log(2) + log(3) + …. + log(n) = ?\n",
        "Note: The function takes the value of “n” as parameter and returns the sum.\n"
      ]
    },
    {
      "cell_type": "code",
      "metadata": {
        "id": "hIE-jSKDrpwW",
        "colab_type": "code",
        "colab": {
          "base_uri": "https://localhost:8080/",
          "height": 50
        },
        "outputId": "8d8a6cce-4f29-4e77-c14c-7a07c2eb4241"
      },
      "source": [
        "import math\n",
        "\n",
        "n = int(input(\"Enter the number: \"))\n",
        "\n",
        "\n",
        "def SumOfLog(n):\n",
        " sum=0\n",
        " for x in range(1,n+1):\n",
        "  sum=round((sum+ math.log( x )),0)\n",
        "  if (x==n):\n",
        "    print(\"log(\",x,\")\",end=\"\")\n",
        "  else:\n",
        "    print(\"log(\",x,\")\",end=\"+\")\n",
        "\n",
        " return sum\n",
        " \n",
        "print (\"=\",SumOfLog(15))"
      ],
      "execution_count": null,
      "outputs": [
        {
          "output_type": "stream",
          "text": [
            "Enter the number: 15\n",
            "log( 1 )+log( 2 )+log( 3 )+log( 4 )+log( 5 )+log( 6 )+log( 7 )+log( 8 )+log( 9 )+log( 10 )+log( 11 )+log( 12 )+log( 13 )+log( 14 )+log( 15 )= 28.0\n"
          ],
          "name": "stdout"
        }
      ]
    }
  ]
}