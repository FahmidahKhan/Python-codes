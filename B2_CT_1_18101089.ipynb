{
  "nbformat": 4,
  "nbformat_minor": 0,
  "metadata": {
    "colab": {
      "name": "B2_CT_1_18101089.ipynb",
      "provenance": [],
      "authorship_tag": "ABX9TyNPjI3KRpP7pzm2UP+b8ia2",
      "include_colab_link": true
    },
    "kernelspec": {
      "name": "python3",
      "display_name": "Python 3"
    }
  },
  "cells": [
    {
      "cell_type": "markdown",
      "metadata": {
        "id": "view-in-github",
        "colab_type": "text"
      },
      "source": [
        "<a href=\"https://colab.research.google.com/github/FahmidahKhan/Python-codes/blob/master/B2_CT_1_18101089.ipynb\" target=\"_parent\"><img src=\"https://colab.research.google.com/assets/colab-badge.svg\" alt=\"Open In Colab\"/></a>"
      ]
    },
    {
      "cell_type": "markdown",
      "metadata": {
        "id": "mCbpWPHhBxuY",
        "colab_type": "text"
      },
      "source": [
        "\n",
        "Write a python program to calculate compound interest.\n"
      ]
    },
    {
      "cell_type": "code",
      "metadata": {
        "id": "VwYFEPSHXe_1",
        "colab_type": "code",
        "colab": {
          "base_uri": "https://localhost:8080/",
          "height": 87
        },
        "outputId": "51096a51-d0b9-454c-9db0-a0c20653f6c2"
      },
      "source": [
        "P = int (input (\"Principle (amount in taka): \"))\n",
        "T = int (input (\"Time (in years): \"))\n",
        "R = float (input (\"Rate (of interest): \"))\n",
        "compound_interest = round((P*(1+R/100)**T),3)\n",
        "print(\"Compound Interest = \",compound_interest)\n"
      ],
      "execution_count": null,
      "outputs": [
        {
          "output_type": "stream",
          "text": [
            "Principle (amount in taka): 1200\n",
            "Time (in years): 2\n",
            "Rate (of interest): 5.4\n",
            "Compound Interest =  1333.099\n"
          ],
          "name": "stdout"
        }
      ]
    },
    {
      "cell_type": "markdown",
      "metadata": {
        "id": "3QHp2OeIB6ml",
        "colab_type": "text"
      },
      "source": [
        "Write a python program to calculate the volume of Cone."
      ]
    },
    {
      "cell_type": "code",
      "metadata": {
        "id": "RU3wmNfwbvGK",
        "colab_type": "code",
        "colab": {
          "base_uri": "https://localhost:8080/",
          "height": 87
        },
        "outputId": "567dc707-6f0e-45ed-8acf-48dcf37e3f7f"
      },
      "source": [
        "r = float (input (\"r = \"))\n",
        "h = float (input (\"h = \"))\n",
        "volume =round(((1/3)*3.1416*(r**2)*h),3)\n",
        "surface =round(((3.1416*r*h)+(3.1416*(r**2))),3)\n",
        "print(\"Surface area = \",surface)\n",
        "print(\"Volume = \",volume)\n"
      ],
      "execution_count": null,
      "outputs": [
        {
          "output_type": "stream",
          "text": [
            "r = 53\n",
            "h = 56\n",
            "Surface area =  18149.023\n",
            "Volume =  164728.749\n"
          ],
          "name": "stdout"
        }
      ]
    },
    {
      "cell_type": "markdown",
      "metadata": {
        "id": "Ac1JLLA2COYm",
        "colab_type": "text"
      },
      "source": [
        "Write a python program to calculate the volume of cube."
      ]
    },
    {
      "cell_type": "code",
      "metadata": {
        "id": "adW2JBeYdaxE",
        "colab_type": "code",
        "colab": {
          "base_uri": "https://localhost:8080/",
          "height": 70
        },
        "outputId": "62cb0295-32c6-403d-abd0-c27109494088"
      },
      "source": [
        "\n",
        "a = float (input (\"a = \"))\n",
        "volume = round((a**3),2)\n",
        "surface=round((6*(a**2)),2)\n",
        "print(\"Volume = \",volume)\n",
        "print(\"Surface area = \",surface)\n"
      ],
      "execution_count": null,
      "outputs": [
        {
          "output_type": "stream",
          "text": [
            "a = 3\n",
            "Volume =  27.0\n",
            "Surface area =  54.0\n"
          ],
          "name": "stdout"
        }
      ]
    }
  ]
}