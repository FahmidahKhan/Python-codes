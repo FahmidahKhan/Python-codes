{
  "nbformat": 4,
  "nbformat_minor": 0,
  "metadata": {
    "colab": {
      "name": "B2_CT_2_18101089.ipynb",
      "provenance": [],
      "include_colab_link": true
    },
    "kernelspec": {
      "name": "python3",
      "display_name": "Python 3"
    }
  },
  "cells": [
    {
      "cell_type": "markdown",
      "metadata": {
        "id": "view-in-github",
        "colab_type": "text"
      },
      "source": [
        "<a href=\"https://colab.research.google.com/github/FahmidahKhan/Python-codes/blob/master/B2_CT_2_18101089.ipynb\" target=\"_parent\"><img src=\"https://colab.research.google.com/assets/colab-badge.svg\" alt=\"Open In Colab\"/></a>"
      ]
    },
    {
      "cell_type": "code",
      "metadata": {
        "id": "CpX9GJiYYmEb",
        "colab_type": "code",
        "colab": {
          "base_uri": "https://localhost:8080/",
          "height": 70
        },
        "outputId": "d01171bf-a76a-4641-8f11-c00662e0a0a6"
      },
      "source": [
        "# Write a python program to calculate the grade of an exam. The exam mark will be given as input. Follow the UAP rule for grading.\n",
        "e= float(input(\"Enter the exam mark: \"))\n",
        "\n",
        "print(\"The Grade obtained for the given exam mark is:\")\n",
        "if 100>=e>=80:\n",
        "  print(\"A+\")\n",
        "\n",
        "elif 80>=e>=75:\n",
        "  print(\"A\")\n",
        "\n",
        "elif 75>=e>=70:\n",
        "  print(\"A-\")\n",
        "\n",
        "elif 70>=e>=65:\n",
        "  print(\"B+\")\n",
        "\n",
        "elif 65>=e>=60:\n",
        "  print(\"B\")\n",
        "\n",
        "elif 60>=e>=55:\n",
        "  print(\"B-\")\n",
        "\n",
        "elif 55>=e>=50:\n",
        "  print(\"C+\")\n",
        "\n",
        "elif 50>=e>=45:\n",
        "  print(\"C\")\n",
        "\n",
        "elif 45>=e>=40:\n",
        "  print(\"D\")\n",
        "\n",
        "else:\n",
        "  print(\"F\")\n",
        "\n",
        "\n",
        "\n"
      ],
      "execution_count": null,
      "outputs": [
        {
          "output_type": "stream",
          "text": [
            "Enter the exam mark: 74\n",
            "The Grade obtained for the given exam mark is:\n",
            "A-\n"
          ],
          "name": "stdout"
        }
      ]
    },
    {
      "cell_type": "code",
      "metadata": {
        "id": "s4JTVz6xfTZr",
        "colab_type": "code",
        "colab": {
          "base_uri": "https://localhost:8080/",
          "height": 70
        },
        "outputId": "c78e5453-8adf-4406-c971-a8df8793cc50"
      },
      "source": [
        "# Write a python code to determine negative or non-negative.\n",
        "n= int(input(\"Enter an integer: \"))\n",
        "\n",
        "if n>0:\n",
        "  print(\"The integer you have entered is: \")\n",
        "  print(\"Non-negative\")\n",
        "else :\n",
        "  print(\"The integer you have entered is: \")\n",
        "  print(\"Negative\")"
      ],
      "execution_count": null,
      "outputs": [
        {
          "output_type": "stream",
          "text": [
            "Enter an integer: 1\n",
            "The integer you have entered is: \n",
            "Non-negative\n"
          ],
          "name": "stdout"
        }
      ]
    },
    {
      "cell_type": "code",
      "metadata": {
        "id": "gKny8hX_gh-Q",
        "colab_type": "code",
        "colab": {
          "base_uri": "https://localhost:8080/",
          "height": 263
        },
        "outputId": "f98f0673-6cb9-4eca-8a99-947f02e140f8"
      },
      "source": [
        "# Given a list of 5 elements, swap two values of specified index.\n",
        "print(\"Enter Element 1: \")\n",
        "a = int(input(\"Element 1: \"))\n",
        "print(\"Enter Element 2: \")\n",
        "b = int(input(\"Element 2: \"))\n",
        "print(\"Enter Element 3: \")\n",
        "c = int(input(\"Element 3: \"))\n",
        "print(\"Enter Element 4: \")\n",
        "d = int(input(\"Element 4: \"))\n",
        "print(\"Enter Element 5: \")\n",
        "e = int(input(\"Element 5: \"))\n",
        "\n",
        "i1 = int(input(\"Index 1: \"))\n",
        "i2 = int(input(\"Index 2: \"))\n",
        "\n",
        "l= [a,b,c,d,e]\n",
        "print(\"The original list is: \",l)\n",
        "\n",
        "temp = l[i1]\n",
        "l[i1] = l[i2]\n",
        "l[i2] = temp\n",
        "\n",
        "print(\"After swapping: \",l)\n"
      ],
      "execution_count": null,
      "outputs": [
        {
          "output_type": "stream",
          "text": [
            "Enter Element 1: \n",
            "Element 1: 10\n",
            "Enter Element 2: \n",
            "Element 2: 5\n",
            "Enter Element 3: \n",
            "Element 3: 100\n",
            "Enter Element 4: \n",
            "Element 4: 4\n",
            "Enter Element 5: \n",
            "Element 5: 6\n",
            "Index 1: 2\n",
            "Index 2: 4\n",
            "The original list is:  [10, 5, 100, 4, 6]\n",
            "After swapping:  [10, 5, 6, 4, 100]\n"
          ],
          "name": "stdout"
        }
      ]
    },
    {
      "cell_type": "code",
      "metadata": {
        "id": "85C_6fBNkB-T",
        "colab_type": "code",
        "colab": {
          "base_uri": "https://localhost:8080/",
          "height": 34
        },
        "outputId": "de7e43e4-5a56-44b3-c27f-ca6c5dec5161"
      },
      "source": [
        "# Choose variables of appropriate data type to store the following information where you can search information about an employee with their EmpID.\t\n",
        "D = {\n",
        "    77920 : {\n",
        "        \"EmpID\" : 77920,\n",
        "        \"LastName\" : \"Jackson\",\n",
        "        \"FirstName\" : \"Stephen\",\n",
        "        \"HireDate\" : \"11-29-1997\"\n",
        "    },\n",
        "     77921 : {\n",
        "         \"EmpID\" : 77921,\n",
        "        \"LastName\" : \"Reynolds\",\n",
        "        \"FirstName\" : \"Sandy\",\n",
        "        \"HireDate\" : \"01-04-1993\"\n",
        "     },\n",
        "      77922 : {\n",
        "         \"EmpID\" : 77922,\n",
        "        \"LastName\" : \"Armstrong\",\n",
        "        \"FirstName\" : \"Stephen\",\n",
        "        \"HireDate\" : \"09-16-1989\"\n",
        "     },\n",
        "      77823 : {\n",
        "         \"EmpID\" : 77823,\n",
        "        \"LastName\" : \"Jackson\",\n",
        "        \"FirstName\" : \"Linda\",\n",
        "        \"HireDate\" : \"10-09-1996\"\n",
        "     }\n",
        "}\n",
        "print(D[77921])"
      ],
      "execution_count": null,
      "outputs": [
        {
          "output_type": "stream",
          "text": [
            "{'EmpID': 77921, 'LastName': 'Reynolds', 'FirstName': 'Sandy', 'HireDate': '01-04-1993'}\n"
          ],
          "name": "stdout"
        }
      ]
    }
  ]
}