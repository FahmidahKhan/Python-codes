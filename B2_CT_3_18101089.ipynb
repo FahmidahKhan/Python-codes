{
  "nbformat": 4,
  "nbformat_minor": 0,
  "metadata": {
    "colab": {
      "name": "B2_CT_3_18101089.ipynb",
      "provenance": [],
      "include_colab_link": true
    },
    "kernelspec": {
      "name": "python3",
      "display_name": "Python 3"
    }
  },
  "cells": [
    {
      "cell_type": "markdown",
      "metadata": {
        "id": "view-in-github",
        "colab_type": "text"
      },
      "source": [
        "<a href=\"https://colab.research.google.com/github/FahmidahKhan/Python-codes/blob/master/B2_CT_3_18101089.ipynb\" target=\"_parent\"><img src=\"https://colab.research.google.com/assets/colab-badge.svg\" alt=\"Open In Colab\"/></a>"
      ]
    },
    {
      "cell_type": "code",
      "metadata": {
        "id": "2dNyK2DLZO8z",
        "colab_type": "code",
        "colab": {
          "base_uri": "https://localhost:8080/",
          "height": 52
        },
        "outputId": "19cd8a43-aaf9-4ed8-ed1d-04f6872716c1"
      },
      "source": [
        "#Ques 1:\n",
        "\n",
        "n = int(input())\n",
        "i=1\n",
        "\n",
        "if i%2 == 0:\n",
        "  i = i + 1\n",
        "\n",
        "if n%2 == 0:\n",
        "  n -= 1\n",
        "\n",
        "\n",
        "sum = 0\n",
        "\n",
        "while i<n+1:\n",
        "  if i == n:\n",
        "    print(\"log(\",i,\")\", end=\"\")\n",
        "  else:\n",
        "    print(\"log(\",i,\")\", \"+\", end=\" \")\n",
        "  \n",
        "  sum = sum + i\n",
        "  i += 2\n",
        "\n",
        "print(\" = \", sum)"
      ],
      "execution_count": null,
      "outputs": [
        {
          "output_type": "stream",
          "text": [
            "21\n",
            "log( 1 ) + log( 3 ) + log( 5 ) + log( 7 ) + log( 9 ) + log( 11 ) + log( 13 ) + log( 15 ) + log( 17 ) + log( 19 ) + log( 21 ) =  121\n"
          ],
          "name": "stdout"
        }
      ]
    },
    {
      "cell_type": "code",
      "metadata": {
        "id": "Xw_Zte7Zb9Xr",
        "colab_type": "code",
        "colab": {
          "base_uri": "https://localhost:8080/",
          "height": 70
        },
        "outputId": "7176de18-e7b9-49a3-d4aa-49f7204a9d02"
      },
      "source": [
        "#Ques 2 :\n",
        "s1={'ID': 18101089,\n",
        "    'Name':'Fahmidah Khan',\n",
        "    'Dept': \"CSE\"}\n",
        "s2={'ID': 18101094,\n",
        "    'Name':'Sudip Ghose',\n",
        "     'Dept': \"CSE\"}\n",
        "s3={'ID': 18101100,\n",
        "    'Name':'Reem Hossain',\n",
        "    'Dept': \"CSE\"}\n",
        "\n",
        "students =[s1,s2,s3]\n",
        "for i in students:\n",
        "  print(i[\"Name\"])"
      ],
      "execution_count": null,
      "outputs": [
        {
          "output_type": "stream",
          "text": [
            "Fahmidah Khan\n",
            "Sudip Ghose\n",
            "Reem Hossain\n"
          ],
          "name": "stdout"
        }
      ]
    }
  ]
}